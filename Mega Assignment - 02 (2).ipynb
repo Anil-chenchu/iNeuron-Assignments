{
 "cells": [
  {
   "cell_type": "markdown",
   "id": "89c1af69",
   "metadata": {},
   "source": [
    "**Q1. Why do we call Python as a general purpose and high-level programming language?\n",
    "        \n",
    "  It is interpreted language,it is simple and easily understanding,it is known for its ease of readability and it is             close to human language english and not like machine language\n"
   ]
  },
  {
   "cell_type": "markdown",
   "id": "f5fbbdda",
   "metadata": {},
   "source": [
    "**Q2. Why is Python called a dynamically typed language?**\n",
    "    \n",
    "Programmer don’t need to declare the  type of variable,so python don’t need to know the type of variable untill the code is     run\n"
   ]
  },
  {
   "cell_type": "markdown",
   "id": "c83268fe",
   "metadata": {},
   "source": [
    "**Q3. List some pros and cons of Python programming language?**\n",
    "        \n",
    "   Pros:     1. Easy to read and coding \n",
    "             2.Dynamically typed language \n",
    "             3.More Libraries\n",
    "             4.Interpretend language : The code gets executed line by line so if there is any error at any line it stops                      there and shows error ,so it will be easy for debugging \n",
    "   \n",
    "   Cons:     1.Python is comparatively slow at runtime so it is not ideal for mobile app and gaming purpose\n",
    "             2.High memory consumptions due to the flexibility of data types\n"
   ]
  },
  {
   "cell_type": "markdown",
   "id": "5abb56ff",
   "metadata": {},
   "source": [
    "\n",
    "**Q4. In what all domains can we use Python?\n",
    "    \n",
    "    *. Data Engineering\n",
    "    *.Data science\n",
    "    *.Automation\n",
    "    *. AI and Machine Learning\n"
   ]
  },
  {
   "cell_type": "markdown",
   "id": "2e03bb99",
   "metadata": {},
   "source": [
    "**Q5. What are variable and how can we declare them?\n",
    "        \n",
    "     A variable is used to store information.A variable must start with a letter or underscore it must not start with number\n",
    "         Ex: abc123          right\n",
    "               _abc          right\n",
    "              123abc         wrong\n"
   ]
  },
  {
   "cell_type": "markdown",
   "id": "d375bd8f",
   "metadata": {},
   "source": [
    "**Q6. How can we take an input from the user in Python?**\n",
    "   "
   ]
  },
  {
   "cell_type": "code",
   "execution_count": null,
   "id": "dd7f816d",
   "metadata": {},
   "outputs": [],
   "source": [
    "user_input = input(‘what is your age’)\n",
    "print(user_input)\n"
   ]
  },
  {
   "cell_type": "markdown",
   "id": "ee8e01b0",
   "metadata": {},
   "source": [
    "**Q7. What is the default datatype of the value that has been taken as an input using input() function?**\n",
    "        \n",
    "        String type \n"
   ]
  },
  {
   "cell_type": "markdown",
   "id": "6403b467",
   "metadata": {},
   "source": [
    "**Q8. What is type casting?**\n",
    "   \n",
    "   Converting one data type to another is called  type casting\n"
   ]
  },
  {
   "cell_type": "markdown",
   "id": "8925828f",
   "metadata": {},
   "source": [
    "**Q9. Can we take more than one input from the user using single input() function? If yes, how? If no, why?\n",
    "      \n",
    "      No\n"
   ]
  },
  {
   "cell_type": "markdown",
   "id": "485deae2",
   "metadata": {},
   "source": [
    "**Q10. What are keywords?**\n",
    "\n",
    "These are Reserved words in python which cannot be used as Variables they are used to define syntax and structure of python\n",
    "           \n",
    "           Ex; if,else,print,and,not,true,false\n"
   ]
  },
  {
   "cell_type": "markdown",
   "id": "dab99685",
   "metadata": {},
   "source": [
    "**Q11. Can we use keywords as a variable? Support your answer with reason.**\n",
    "            \n",
    "                              No.\n",
    " \n",
    " These are Reserved words in python which cannot be used as Variables they are used to define syntax and structure of python\n",
    "               \n",
    "               Ex; if,else,print,and,not,true,false\n"
   ]
  },
  {
   "cell_type": "markdown",
   "id": "e7c53d3b",
   "metadata": {},
   "source": [
    "**Q12. What is indentation? What's the use of indentaion in Python?**\n",
    "            \n",
    "    Indentation is the white space added at the beginning of statements     \n",
    "             The use of indentation is to group the statements into a code block\n",
    "\n"
   ]
  },
  {
   "cell_type": "markdown",
   "id": "320250e5",
   "metadata": {},
   "source": [
    "**Q13. How can we throw some output in Python?**\n",
    "         \n",
    "         By using print() function\n"
   ]
  },
  {
   "cell_type": "markdown",
   "id": "ec826cac",
   "metadata": {},
   "source": [
    "**Q14. What are operators in Python?**\n",
    "      \n",
    "    Operators are symbols which are used to do some sort of computation\n",
    "\n",
    "  Different types of operators are:\n",
    "\n",
    "1.Arthmatic operators\n",
    "2.Assignment Operators\n",
    "3.Logical operators\n",
    "4.Comparision operators\n"
   ]
  },
  {
   "cell_type": "markdown",
   "id": "e908e82f",
   "metadata": {},
   "source": [
    "**Q15. What is difference between / and // operators?**\n",
    "\n",
    "/  Standard division which always returns a float number     Ex : 6/2 = 3.0\n",
    "//   Rounds the result to nearest whole number\tEx: 9/2 = 4\n",
    "\n"
   ]
  },
  {
   "cell_type": "markdown",
   "id": "d026f1e4",
   "metadata": {},
   "source": [
    "**Q16. Write a code that gives following as an output.**\n",
    "```\n",
    "iNeuroniNeuroniNeuroniNeuron\n",
    "```"
   ]
  },
  {
   "cell_type": "code",
   "execution_count": 18,
   "id": "d2e3130e",
   "metadata": {},
   "outputs": [
    {
     "name": "stdout",
     "output_type": "stream",
     "text": [
      "iNeuroniNeuroniNeuroniNeuron\n"
     ]
    }
   ],
   "source": [
    "multi_string= 'iNeuron' * 4\n",
    "print(multi_string)\n"
   ]
  },
  {
   "cell_type": "markdown",
   "id": "79bb9b2c",
   "metadata": {},
   "source": [
    "**Q17. Write a code to take a number as an input from the user and check if the number is odd or even**"
   ]
  },
  {
   "cell_type": "code",
   "execution_count": 19,
   "id": "8ed9b07a",
   "metadata": {},
   "outputs": [
    {
     "name": "stdout",
     "output_type": "stream",
     "text": [
      "Enter a number  24\n",
      "Even Number\n"
     ]
    }
   ],
   "source": [
    "user_input =int(input('Enter a number  '))\n",
    "if user_input % 2 == 0:\n",
    "    print('Even Number')\n",
    "else:\n",
    "    print('Odd Number')\n"
   ]
  },
  {
   "cell_type": "markdown",
   "id": "e215f4b0",
   "metadata": {},
   "source": [
    "**Q18. What are boolean operator?**\n",
    "\n",
    "To Know whether an expression is True or False boolean operator is used \n",
    "True\n",
    "False\n"
   ]
  },
  {
   "cell_type": "markdown",
   "id": "5ca15c43",
   "metadata": {},
   "source": [
    "**Q19. What will the output of the following?**"
   ]
  },
  {
   "cell_type": "code",
   "execution_count": null,
   "id": "0a95031f",
   "metadata": {},
   "outputs": [],
   "source": [
    "1 or 0  = True\n",
    "\n",
    "0 and 0    = False\n",
    "\n",
    "True and False and True   = False \n",
    "\n",
    "1 or 0 or 0 = True\n"
   ]
  },
  {
   "cell_type": "markdown",
   "id": "bcfcc454",
   "metadata": {},
   "source": [
    "**Q20. What are conditional statements in Python?**\n",
    "\n",
    "Conditional statements are used to perform a set of actions  depending on the conditions specified by the programmer\n",
    "  Ex : If ,elif and else\n"
   ]
  },
  {
   "cell_type": "markdown",
   "id": "e5ec1c77",
   "metadata": {},
   "source": [
    "**Q21. What is use of 'if', 'elif' and 'else' keywords?**\n",
    "\n",
    "If condition : is used to return one value if acondition is true another value if it is false\n",
    "elif condition : is the extension of  if condition ,now if statement is false then elif statement is checked\n",
    "else : When  both if and elif conditions are not satisfied then else condition is executed and the programme ends \n"
   ]
  },
  {
   "cell_type": "markdown",
   "id": "deedb775",
   "metadata": {},
   "source": [
    "**Q22. Write a code to take the age of person as an input and if age >= 18 display \"I can vote\". **\n",
    "If age is < 18 display \"I can't vote\"."
   ]
  },
  {
   "cell_type": "code",
   "execution_count": 20,
   "id": "c72ef50d",
   "metadata": {},
   "outputs": [
    {
     "name": "stdout",
     "output_type": "stream",
     "text": [
      "Enter your age 19\n",
      "you can vote\n"
     ]
    }
   ],
   "source": [
    "user_age = int(input('Enter your age '))\n",
    "if user_age >= 18:\n",
    "    print('you can vote')\n",
    "else:\n",
    "    print('you cant vote')\n"
   ]
  },
  {
   "cell_type": "markdown",
   "id": "ac29c17c",
   "metadata": {},
   "source": [
    "**Q23. Write a code that displays the sum of all the even numbers from the given list.**\n",
    "```\n",
    "numbers = [12, 75, 150, 180, 145, 525, 50]"
   ]
  },
  {
   "cell_type": "code",
   "execution_count": 26,
   "id": "dcedd367",
   "metadata": {},
   "outputs": [
    {
     "name": "stdout",
     "output_type": "stream",
     "text": [
      "392\n"
     ]
    }
   ],
   "source": [
    "numbers = [12,75,150,180,145,525,50] \n",
    "sum = 0 \n",
    "i = 1\n",
    "for i in numbers:\n",
    "    if i % 2 == 0:\n",
    "        sum = sum + i\n",
    "print(sum)\n"
   ]
  },
  {
   "cell_type": "markdown",
   "id": "b3faa345",
   "metadata": {},
   "source": [
    "**Q24. Write a code to take 3 numbers as an input from the user and display the greatest no as output**"
   ]
  },
  {
   "cell_type": "code",
   "execution_count": 27,
   "id": "c6d40767",
   "metadata": {},
   "outputs": [
    {
     "name": "stdout",
     "output_type": "stream",
     "text": [
      "Enter first number: 1\n",
      "Enter second number: 2\n",
      "Enter third number: 3\n",
      "The greates number is 3.0\n"
     ]
    }
   ],
   "source": [
    "num1 = float(input(\"Enter first number: \"))\n",
    "num2 = float(input(\"Enter second number: \"))\n",
    "num3 = float(input(\"Enter third number: \"))\n",
    "\n",
    "if (num1 >= num2) and (num1 >= num3):\n",
    "   largest = num1\n",
    "elif (num2 >= num1) and (num2 >= num3):\n",
    "   largest = num2\n",
    "else:\n",
    "   largest = num3\n",
    "\n",
    "print(\"The greatest number is\", largest)\n",
    "\n"
   ]
  },
  {
   "cell_type": "markdown",
   "id": "6aea4d88",
   "metadata": {},
   "source": [
    "**Q25. Write a program to display only those numbers from a list that satisfy the following conditions**\n",
    "\n",
    "- The number must be divisible by five\n",
    "\n",
    "- If the number is greater than 150, then skip it and move to the next number\n",
    "\n",
    "- If the number is greater than 500, then stop the loop\n",
    "\n",
    "numbers = [12, 75, 150, 180, 145, 525, 50]"
   ]
  },
  {
   "cell_type": "code",
   "execution_count": 28,
   "id": "fe5d9df8",
   "metadata": {},
   "outputs": [
    {
     "name": "stdout",
     "output_type": "stream",
     "text": [
      "75\n",
      "150\n",
      "145\n",
      "50\n"
     ]
    }
   ],
   "source": [
    " numbers = [12,75,150,180,145,525,50]\n",
    "for i in numbers :\n",
    "    if i%5 !=0 :\n",
    "        continue \n",
    "    elif i>150:\n",
    "        continue\n",
    "    elif i > 500:\n",
    "        break\n",
    "    print(i)\n"
   ]
  },
  {
   "cell_type": "markdown",
   "id": "3c6eb7c9",
   "metadata": {},
   "source": [
    "\n",
    "**Q26. What is a string? How can we declare string in Python?**\n",
    "\n",
    "     A string is a sequence of characters, a string is attached to the variable as shown below   "
   ]
  },
  {
   "cell_type": "code",
   "execution_count": 1,
   "id": "5853e7d8",
   "metadata": {},
   "outputs": [
    {
     "name": "stdout",
     "output_type": "stream",
     "text": [
      "Chenchu Anil is enrolled in bootcamp_2\n"
     ]
    }
   ],
   "source": [
    "str = 'Chenchu Anil is enrolled in bootcamp_2'\n",
    "print(str)"
   ]
  },
  {
   "cell_type": "markdown",
   "id": "6111ec31",
   "metadata": {},
   "source": [
    "**Q27. How can we access the string using its index?**"
   ]
  },
  {
   "cell_type": "code",
   "execution_count": 153,
   "id": "ac9b47e8",
   "metadata": {},
   "outputs": [
    {
     "name": "stdout",
     "output_type": "stream",
     "text": [
      "chenchu anil\n"
     ]
    }
   ],
   "source": [
    "str = 'chenchu anil'\n",
    "print(str[0:])"
   ]
  },
  {
   "cell_type": "markdown",
   "id": "b51082c5",
   "metadata": {},
   "source": [
    " **Q28. Write a code to get the desired output of the following**\n",
    " ```\n",
    " string = \"Big Data iNeuron\"\n",
    " desired_output = \"iNeuron\""
   ]
  },
  {
   "cell_type": "code",
   "execution_count": 32,
   "id": "82da2121",
   "metadata": {},
   "outputs": [
    {
     "name": "stdout",
     "output_type": "stream",
     "text": [
      "desrired output=  iNeuron\n"
     ]
    }
   ],
   "source": [
    "string = 'Big Data iNeuron'\n",
    "print('desrired_output=',string[8:])"
   ]
  },
  {
   "cell_type": "markdown",
   "id": "4cb5dad8",
   "metadata": {},
   "source": [
    "\n",
    "**Q29. Write a code to get the desired output of the following**\n",
    "```\n",
    "string = \"Big Data iNeuron\"\n",
    "desired_output = \"norueNi\""
   ]
  },
  {
   "cell_type": "code",
   "execution_count": 120,
   "id": "00cef102",
   "metadata": {},
   "outputs": [
    {
     "name": "stdout",
     "output_type": "stream",
     "text": [
      "desired output= norueNi ataD giB\n"
     ]
    }
   ],
   "source": [
    "string = \"Big Data iNeuron\"\n",
    "print('desired output=',string[-1:: -1])"
   ]
  },
  {
   "cell_type": "markdown",
   "id": "b8f1a302",
   "metadata": {},
   "source": [
    "**Q30. Resverse the string given in the above question.**\n",
    "\n"
   ]
  },
  {
   "cell_type": "code",
   "execution_count": 121,
   "id": "a45c48f2",
   "metadata": {},
   "outputs": [
    {
     "name": "stdout",
     "output_type": "stream",
     "text": [
      "desired output= norueNi ataD giB\n"
     ]
    }
   ],
   "source": [
    "string = \"Big Data iNeuron\"\n",
    "print('desired output=',string[-1:: -1])"
   ]
  },
  {
   "cell_type": "markdown",
   "id": "e44bf5e4",
   "metadata": {},
   "source": [
    "**Q31. How can you delete entire string at once?**"
   ]
  },
  {
   "cell_type": "code",
   "execution_count": 127,
   "id": "d80ec31f",
   "metadata": {},
   "outputs": [],
   "source": [
    "string = 'executor memory'\n",
    "del string\n",
    "\n"
   ]
  },
  {
   "cell_type": "markdown",
   "id": "b4134efb",
   "metadata": {},
   "source": [
    "\n",
    "**Q32. What is escape sequence?**\n",
    "     An escape sequence is represented by backslash(\\) followed by a specific character for example\n",
    "      \\n represnts a new line in below code"
   ]
  },
  {
   "cell_type": "code",
   "execution_count": 130,
   "id": "0aa6d2a3",
   "metadata": {},
   "outputs": [
    {
     "name": "stdout",
     "output_type": "stream",
     "text": [
      "Chenchu Anil is \n",
      "enrolled in \n",
      "iNeuron\n",
      "bootcamp 2.0\n"
     ]
    }
   ],
   "source": [
    "str2 = 'Chenchu Anil is \\nenrolled in \\niNeuron\\nbootcamp 2.0'\n",
    "print(str2)"
   ]
  },
  {
   "cell_type": "markdown",
   "id": "ae656189",
   "metadata": {},
   "source": [
    "\n",
    "**Q33. How can you print the below string?**\n",
    "```\n",
    "'iNeuron's Big Data Course'"
   ]
  },
  {
   "cell_type": "code",
   "execution_count": 133,
   "id": "b2259b1a",
   "metadata": {},
   "outputs": [
    {
     "name": "stdout",
     "output_type": "stream",
     "text": [
      "iNeuron's Big Data Course\n"
     ]
    }
   ],
   "source": [
    "string = \"iNeuron's Big Data Course\"\n",
    "print(string)"
   ]
  },
  {
   "cell_type": "markdown",
   "id": "688de305",
   "metadata": {},
   "source": [
    "**Q34. What is a list in Python?**\n",
    " \n",
    "    List is a sequential data which is stored in contiguous memory location.It stores hetrogenious kind of data.\n",
    "\n"
   ]
  },
  {
   "cell_type": "markdown",
   "id": "c169483f",
   "metadata": {},
   "source": [
    "\n",
    "**Q35. How can you create a list in Python?**"
   ]
  },
  {
   "cell_type": "code",
   "execution_count": 135,
   "id": "c99590e7",
   "metadata": {},
   "outputs": [
    {
     "name": "stdout",
     "output_type": "stream",
     "text": [
      "[2, 4, 6, 7, 8, 9, 3, 4]\n"
     ]
    }
   ],
   "source": [
    "list = [2,4,6,7,8,9,3,4]\n",
    "print(list)"
   ]
  },
  {
   "cell_type": "markdown",
   "id": "f4c8d706",
   "metadata": {},
   "source": [
    "**Q36. How can we access the elements in a list?**\n"
   ]
  },
  {
   "cell_type": "code",
   "execution_count": 139,
   "id": "80ef9dfd",
   "metadata": {},
   "outputs": [
    {
     "name": "stdout",
     "output_type": "stream",
     "text": [
      "shashank\n"
     ]
    }
   ],
   "source": [
    "list = ['anil','vishal','shashank','ayush']\n",
    "print(list[2])"
   ]
  },
  {
   "cell_type": "markdown",
   "id": "eebb1d53",
   "metadata": {},
   "source": [
    "**Q37. Write a code to access the word \"iNeuron\" from the given list.**\n",
    "```\n",
    "lst = [1,2,3,\"Hi\",[45,54, \"iNeuron\"], \"Big Data\"]"
   ]
  },
  {
   "cell_type": "code",
   "execution_count": 159,
   "id": "a238e99a",
   "metadata": {},
   "outputs": [
    {
     "name": "stdout",
     "output_type": "stream",
     "text": [
      "iNeuron\n"
     ]
    }
   ],
   "source": [
    "lst = [1,2,3,\"Hi\",[45,54, \"iNeuron\"], \"Big Data\"]\n",
    "print(lst[4][2])"
   ]
  },
  {
   "cell_type": "markdown",
   "id": "ed72e269",
   "metadata": {},
   "source": [
    "**Q38. Take a list as an input from the user and find the length of the list.**"
   ]
  },
  {
   "cell_type": "code",
   "execution_count": 15,
   "id": "1b4f08e6",
   "metadata": {},
   "outputs": [
    {
     "name": "stdout",
     "output_type": "stream",
     "text": [
      "Enter number of elements : 1\n",
      "2\n",
      "[2]\n",
      "The length of list is  1\n"
     ]
    }
   ],
   "source": [
    "\n",
    "lst = []\n",
    "  \n",
    "n = int(input(\"Enter number of elements : \"))\n",
    "for i in range(0, n):\n",
    "    ele = int(input())\n",
    "    lst.append(ele)                                                        \n",
    "      \n",
    "print(lst)\n",
    "print('The length of list is ' ,len(lst))"
   ]
  },
  {
   "cell_type": "markdown",
   "id": "228b6386",
   "metadata": {},
   "source": [
    "\n",
    " **Q39. Add the word \"Big\" in the 3rd index of the given list.**\n",
    "```\n",
    "lst = [\"Welcome\", \"to\", \"Data\", \"course\"]\n",
    "```"
   ]
  },
  {
   "cell_type": "code",
   "execution_count": 164,
   "id": "113b82d1",
   "metadata": {},
   "outputs": [
    {
     "name": "stdout",
     "output_type": "stream",
     "text": [
      "['Welcome', 'to', 'Big', 'Data', 'course']\n"
     ]
    }
   ],
   "source": [
    "lst = [\"Welcome\", \"to\", \"Data\", \"course\"]\n",
    "lst.insert(2,'Big')\n",
    "print(lst)"
   ]
  },
  {
   "cell_type": "markdown",
   "id": "24b7f8d7",
   "metadata": {},
   "source": [
    "**Q40. What is a tuple? How is it different from list?**\n",
    "\n"
   ]
  },
  {
   "cell_type": "code",
   "execution_count": null,
   "id": "887913f4",
   "metadata": {},
   "outputs": [],
   "source": [
    "Tuples are immutable objects meaning once the data is assigned to tupple the values cannot be changed\n",
    "Tuples are used when elements are of different data type and somehow related to each other\n",
    "Ex: ('Anil','indian', 1984)\n",
    "    \n",
    "lists are muttable objects they can be changed\n",
    "lists are used when elements are of same data type\n",
    "Ex:Emp_name = ['Anil','shashank','vishal']"
   ]
  },
  {
   "cell_type": "markdown",
   "id": "80e10c39",
   "metadata": {},
   "source": [
    "\n",
    "** Q42. Create a tuple and try to add your name in the tuple. Are you able to do it? Support your answer with reason.**\n",
    "\n",
    "      tuples are immutable objects so you cannot modify the tuple"
   ]
  },
  {
   "cell_type": "markdown",
   "id": "6c9af24e",
   "metadata": {},
   "source": [
    "**Q43.Can two tuple be appended. If yes, write a code for it. If not, why?**"
   ]
  },
  {
   "cell_type": "code",
   "execution_count": 167,
   "id": "b259caa9",
   "metadata": {},
   "outputs": [
    {
     "name": "stdout",
     "output_type": "stream",
     "text": [
      "('anil', 1, 'vishal', 'ayush', 2, 'benglore')\n"
     ]
    }
   ],
   "source": [
    "tup1 =('anil',1,'vishal')\n",
    "tup2 =('ayush',2,'benglore')\n",
    "\n",
    "print(tup1 + tup2)"
   ]
  },
  {
   "cell_type": "markdown",
   "id": "13a59f44",
   "metadata": {},
   "source": [
    "**Q44. Take a tuple as an input and print the count of elements in it.**"
   ]
  },
  {
   "cell_type": "code",
   "execution_count": 168,
   "id": "6a0b882f",
   "metadata": {},
   "outputs": [
    {
     "name": "stdout",
     "output_type": "stream",
     "text": [
      "6\n"
     ]
    }
   ],
   "source": [
    "tup3 = ('anil', 1, 'vishal', 'ayush', 2, 'benglore')\n",
    "print(len(tup3))"
   ]
  },
  {
   "cell_type": "markdown",
   "id": "e162918c",
   "metadata": {},
   "source": [
    "**Q45. What are sets in Python?**\n",
    "    A set is a unordered mutable collection of unique elements"
   ]
  },
  {
   "cell_type": "markdown",
   "id": "de63a976",
   "metadata": {},
   "source": [
    "\n",
    "**Q46. How can you create a set?**"
   ]
  },
  {
   "cell_type": "code",
   "execution_count": 172,
   "id": "4273c0a9",
   "metadata": {},
   "outputs": [
    {
     "name": "stdout",
     "output_type": "stream",
     "text": [
      "{1, 2, 3, 4, 5, 6, 7, 8, 9}\n"
     ]
    }
   ],
   "source": [
    "set1 = {1,2,2,3,4,5,5,6,7,8,3,5,9,9,9}\n",
    "print(set1)"
   ]
  },
  {
   "cell_type": "markdown",
   "id": "ca858a2b",
   "metadata": {},
   "source": [
    "**Q47. Create a set and add \"iNeuron\" in your set.**"
   ]
  },
  {
   "cell_type": "code",
   "execution_count": 183,
   "id": "e70a7bc6",
   "metadata": {},
   "outputs": [
    {
     "name": "stdout",
     "output_type": "stream",
     "text": [
      "{'iNeuron'}\n"
     ]
    }
   ],
   "source": [
    "set2 = set()\n",
    "set2.add('iNeuron')\n",
    "print(set2)"
   ]
  },
  {
   "cell_type": "markdown",
   "id": "5094068c",
   "metadata": {},
   "source": [
    "**Q48. Try to add multiple values using add() function.**"
   ]
  },
  {
   "cell_type": "code",
   "execution_count": 176,
   "id": "5aa657f1",
   "metadata": {},
   "outputs": [
    {
     "name": "stdout",
     "output_type": "stream",
     "text": [
      "{1, 'Bootcamp', 'iNeuron', 'Big Data', '2.0', 'chenchu Anil'}\n"
     ]
    }
   ],
   "source": [
    "set3 = {1}\n",
    "set3.add('iNeuron')\n",
    "set3.add('chenchu Anil')\n",
    "set3.add('Bootcamp')\n",
    "set3.add('2.0')\n",
    "set3.add('Big Data')\n",
    "\n",
    "print(set3)"
   ]
  },
  {
   "cell_type": "markdown",
   "id": "6d7ead17",
   "metadata": {},
   "source": [
    "**Q49. How is update() different from add()?**\n",
    "\n",
    "update() is used to change the exsisting value\n",
    "add() is used to add a new element"
   ]
  },
  {
   "cell_type": "markdown",
   "id": "a1a8122d",
   "metadata": {},
   "source": [
    "**Q50. What is clear() in sets?**\n",
    "\n",
    " clear() deletes all the values in the set"
   ]
  },
  {
   "cell_type": "code",
   "execution_count": 180,
   "id": "30cf05ac",
   "metadata": {},
   "outputs": [
    {
     "name": "stdout",
     "output_type": "stream",
     "text": [
      "set()\n"
     ]
    }
   ],
   "source": [
    "set4 = {1,2,3,3}\n",
    "set4.clear()\n",
    "print(set4)"
   ]
  },
  {
   "cell_type": "markdown",
   "id": "c046c518",
   "metadata": {},
   "source": [
    "**Q51. What is frozen set?**\n",
    "\n",
    " frozen set is same like normal set but they are immutable like tuples"
   ]
  },
  {
   "cell_type": "code",
   "execution_count": 191,
   "id": "72b0e907",
   "metadata": {},
   "outputs": [
    {
     "name": "stdout",
     "output_type": "stream",
     "text": [
      "frozenset({1, 2, 3, 6, 7, 'anil', 'chenchu'})\n"
     ]
    }
   ],
   "source": [
    "list = [1,'anil', 2,'chenchu',1,3,7,6]\n",
    "y = frozenset(list)\n",
    "print(y) "
   ]
  },
  {
   "cell_type": "markdown",
   "id": "14e0e7a0",
   "metadata": {},
   "source": [
    "**Q52. How is frozen set different from set?**\n",
    "\n",
    "set = muttable ,doesnt print in sequential order\n",
    "\n",
    "frozen set = immutable as shown in below block code , \n",
    "             prints in sequencial order as shown in above code block\n",
    "\n",
    "  "
   ]
  },
  {
   "cell_type": "code",
   "execution_count": 186,
   "id": "34d16a2d",
   "metadata": {},
   "outputs": [
    {
     "ename": "AttributeError",
     "evalue": "'frozenset' object has no attribute 'add'",
     "output_type": "error",
     "traceback": [
      "\u001b[1;31m---------------------------------------------------------------------------\u001b[0m",
      "\u001b[1;31mAttributeError\u001b[0m                            Traceback (most recent call last)",
      "Input \u001b[1;32mIn [186]\u001b[0m, in \u001b[0;36m<cell line: 3>\u001b[1;34m()\u001b[0m\n\u001b[0;32m      1\u001b[0m \u001b[38;5;28mlist\u001b[39m \u001b[38;5;241m=\u001b[39m [\u001b[38;5;241m1\u001b[39m,\u001b[38;5;124m'\u001b[39m\u001b[38;5;124manil\u001b[39m\u001b[38;5;124m'\u001b[39m, \u001b[38;5;124m'\u001b[39m\u001b[38;5;124mchenchu\u001b[39m\u001b[38;5;124m'\u001b[39m,\u001b[38;5;241m1\u001b[39m]\n\u001b[0;32m      2\u001b[0m y \u001b[38;5;241m=\u001b[39m \u001b[38;5;28mfrozenset\u001b[39m(\u001b[38;5;28mlist\u001b[39m)\n\u001b[1;32m----> 3\u001b[0m \u001b[43my\u001b[49m\u001b[38;5;241;43m.\u001b[39;49m\u001b[43madd\u001b[49m(\u001b[38;5;241m3\u001b[39m)\n\u001b[0;32m      4\u001b[0m \u001b[38;5;28mprint\u001b[39m(y)\n",
      "\u001b[1;31mAttributeError\u001b[0m: 'frozenset' object has no attribute 'add'"
     ]
    }
   ],
   "source": [
    "list = [1,'anil', 'chenchu',1]\n",
    "y = frozenset(list)\n",
    "y.add(3)\n",
    "print(y) \n",
    "\n",
    "# SO FROZEN SETS ARE IMMUTABLE WHEN YOU ARE TRYING TO ADD A VALUE IT THROWS AN ERROR \n",
    "\n",
    "#AttributeError: 'frozenset' object has no attribute 'add'"
   ]
  },
  {
   "cell_type": "markdown",
   "id": "f085505f",
   "metadata": {},
   "source": [
    "**Q53. What is union() in sets? Explain via code.**\n",
    "\n",
    "union is the set of all unique elements present in all sets,it combines two or more sets"
   ]
  },
  {
   "cell_type": "code",
   "execution_count": 190,
   "id": "90148d08",
   "metadata": {},
   "outputs": [
    {
     "name": "stdout",
     "output_type": "stream",
     "text": [
      "{1, 2, 3, 4, 6, 7, 8, 9, 10, 11, 12, 13, 14, 15, 16}\n"
     ]
    }
   ],
   "source": [
    "set5 = {1,2,3,4,4,3,6}\n",
    "set6 = {7,8,8,6,9,10}\n",
    "set7 = {11,12,13,12,14,14,15,16}\n",
    "print(set5 | set6 | set7)"
   ]
  },
  {
   "cell_type": "markdown",
   "id": "15aa3e5e",
   "metadata": {},
   "source": [
    "\n",
    "**Q54. What is intersection() in sets? Explain via code.**\n",
    "  \n",
    "This method returns a set which contains common values in one or more sets\n",
    "\n"
   ]
  },
  {
   "cell_type": "code",
   "execution_count": 197,
   "id": "a6c6b682",
   "metadata": {},
   "outputs": [
    {
     "name": "stdout",
     "output_type": "stream",
     "text": [
      "{2, 4, 6}\n"
     ]
    }
   ],
   "source": [
    "set8 = {1,2,3,4,5,6}\n",
    "set9 = {2,4,6,8,9,10}\n",
    "\n",
    "print(set8 & set9)"
   ]
  },
  {
   "cell_type": "markdown",
   "id": "ca45399f",
   "metadata": {},
   "source": [
    "\n",
    "**Q55. What is dictionary in Python?**\n",
    "\n",
    "The dictionary is an unordered collection of key-value pairs seperated by comma that is enclosed in a curly braces they are muttable objects i.e we can add or remove elements from dictionary\n",
    "\n"
   ]
  },
  {
   "cell_type": "markdown",
   "id": "ffa2f380",
   "metadata": {},
   "source": [
    "**Q56. How is dictionary different from all other data structures.**\n",
    "\n",
    "\n",
    "They are key-value pairs they contain collection of keys and associated values"
   ]
  },
  {
   "cell_type": "markdown",
   "id": "bb5d780a",
   "metadata": {},
   "source": [
    "**Q57. How can we declare a dictionary in Python?**\n",
    "\n",
    "   dict1 = {}\n"
   ]
  },
  {
   "cell_type": "markdown",
   "id": "d9c98672",
   "metadata": {},
   "source": [
    "**Q58. What will the output of the following?**\n",
    "```\n",
    "var = {}\n",
    "print(type(var))\n",
    "\n",
    "\n",
    "class < 'dict'> "
   ]
  },
  {
   "cell_type": "markdown",
   "id": "9c239d32",
   "metadata": {},
   "source": [
    "**Q59. How can we add an element in a dictionary?**\n",
    "\n"
   ]
  },
  {
   "cell_type": "code",
   "execution_count": 240,
   "id": "0f7b0432",
   "metadata": {},
   "outputs": [
    {
     "name": "stdout",
     "output_type": "stream",
     "text": [
      "{'name': 'Ayush', 'age': 11}\n"
     ]
    }
   ],
   "source": [
    "dict1 = {'name' :'Ayush' , 'age':11}\n",
    "print(dict1)"
   ]
  },
  {
   "cell_type": "markdown",
   "id": "8b79a355",
   "metadata": {},
   "source": [
    "**Q60. Create a dictionary and access all the values in that dictionary.**"
   ]
  },
  {
   "cell_type": "code",
   "execution_count": 16,
   "id": "664be577",
   "metadata": {},
   "outputs": [
    {
     "name": "stdout",
     "output_type": "stream",
     "text": [
      "dict_values(['Anil', '6 ft', '80 kg', 'B.E. civil', 'English,Hindi,Kannada,Telugu,Tamil'])\n"
     ]
    }
   ],
   "source": [
    "dict2 = {'NAME' : 'Anil','HEIGHT': '6 ft','WEIGHT': '80 kg','QUALIFICATION':'B.E. civil','LANGUAGES KNOWN':'English,Hindi,Kannada,Telugu,Tamil'}\n",
    "print(dict2.values())"
   ]
  },
  {
   "cell_type": "markdown",
   "id": "38200cc3",
   "metadata": {},
   "source": [
    "**Q61. Create a nested dictionary and access all the element in the inner dictionary.**"
   ]
  },
  {
   "cell_type": "code",
   "execution_count": 242,
   "id": "35531c27",
   "metadata": {},
   "outputs": [
    {
     "data": {
      "text/plain": [
       "{'Break-fast': 'Corn', 'Lunch': 'Roti', 'Dinner': 'salad'}"
      ]
     },
     "execution_count": 242,
     "metadata": {},
     "output_type": "execute_result"
    }
   ],
   "source": [
    "dict3={'Anil':'Roti',\n",
    "    'Ayush':'burger',\n",
    "    'Gangi':{'Break-fast':'Corn','Lunch':'Roti','Dinner':'salad'}}\n",
    "dict3.get('Gangi')"
   ]
  },
  {
   "cell_type": "markdown",
   "id": "622058de",
   "metadata": {},
   "source": [
    "**Q62. What is the use of get() function?**\n",
    "\n",
    "Returns the value of the item with specified key"
   ]
  },
  {
   "cell_type": "code",
   "execution_count": 243,
   "id": "2c404f48",
   "metadata": {},
   "outputs": [
    {
     "data": {
      "text/plain": [
       "'salad'"
      ]
     },
     "execution_count": 243,
     "metadata": {},
     "output_type": "execute_result"
    }
   ],
   "source": [
    "dictionary={'Anil':'Roti',\n",
    "    'Ayush':'salad',\n",
    "    'Gangi':{'Break-fast':'Corn','Lunch':'Roti','Dinner':'salad'}}\n",
    "dictionary.get('Ayush')"
   ]
  },
  {
   "cell_type": "markdown",
   "id": "1cfcda49",
   "metadata": {},
   "source": [
    "**Q63. What is the use of items() function?**\n",
    "\n",
    "When looping through dictionaries key and corresponding values can be retrieved at the same time using the items method"
   ]
  },
  {
   "cell_type": "code",
   "execution_count": 244,
   "id": "63b59246",
   "metadata": {},
   "outputs": [
    {
     "name": "stdout",
     "output_type": "stream",
     "text": [
      "key = Anil and value =  Roti\n",
      "key = Ayush and value =  pizza\n",
      "key = Gangi and value =  {'Break-fast': 'Corn', 'Lunch': 'Roti', 'Dinner': 'salad'}\n"
     ]
    }
   ],
   "source": [
    "dict4={'Anil':'Roti',\n",
    "    'Ayush':'pizza',\n",
    "    'Gangi':{'Break-fast':'Corn','Lunch':'Roti','Dinner':'salad'}}\n",
    "for a,r in dict4.items():\n",
    "    print('key =',a,'and value = ',r)"
   ]
  },
  {
   "cell_type": "markdown",
   "id": "c5554537",
   "metadata": {},
   "source": [
    "**Q64. What is the use of pop() function?**\n",
    "\n",
    "if key is in the dictionary it removes and returns its corresponding value"
   ]
  },
  {
   "cell_type": "code",
   "execution_count": 235,
   "id": "a65ea75f",
   "metadata": {},
   "outputs": [
    {
     "name": "stdout",
     "output_type": "stream",
     "text": [
      "{'country': 'india'}\n"
     ]
    }
   ],
   "source": [
    "\n",
    "dict5 = {'Language': 'Hindi', 'country':'india'}\n",
    "dict5.pop('Language')\n",
    "print(dict5)"
   ]
  },
  {
   "cell_type": "markdown",
   "id": "5d0001e5",
   "metadata": {},
   "source": [
    "**Q65. What is the use of popitems() function?**\n",
    "\n",
    "popitems()method removes and returns key-value pair it returns as  LIFO(last in first out)order"
   ]
  },
  {
   "cell_type": "code",
   "execution_count": 239,
   "id": "960bac31",
   "metadata": {},
   "outputs": [
    {
     "name": "stdout",
     "output_type": "stream",
     "text": [
      "('population', '1.3billion')\n"
     ]
    }
   ],
   "source": [
    "dict6 = {'Language': 'Hindi', 'country':'india','population':'1.3billion'}\n",
    "x = dict6.popitem()\n",
    "print(x)                                     #Last item from dictionary is given as output"
   ]
  },
  {
   "cell_type": "markdown",
   "id": "99d23290",
   "metadata": {},
   "source": [
    "**Q66. What is the use of keys() function?**\n",
    "\n",
    "This method only returns the keys of the dictionary"
   ]
  },
  {
   "cell_type": "code",
   "execution_count": 265,
   "id": "405ef17c",
   "metadata": {},
   "outputs": [
    {
     "name": "stdout",
     "output_type": "stream",
     "text": [
      "dict_keys(['NAME', 'HEIGHT', 'WEIGHT', 'QUALIFICATION', 'LANGUAGES KNOWN'])\n"
     ]
    }
   ],
   "source": [
    "dict7 = {'NAME' : 'Anil','HEIGHT': '6 ft','WEIGHT': '80 kg','QUALIFICATION':'B.E. civil','LANGUAGES KNOWN':'English,Hindi,Kannada,Telugu,Tamil'}\n",
    "print(dict7.keys())"
   ]
  },
  {
   "cell_type": "markdown",
   "id": "c20fc4b6",
   "metadata": {},
   "source": [
    "**Q67. What is the use of values() function?**\n",
    "\n",
    "This method only returns value of the dictionary"
   ]
  },
  {
   "cell_type": "code",
   "execution_count": 266,
   "id": "8a2b8ab7",
   "metadata": {},
   "outputs": [
    {
     "name": "stdout",
     "output_type": "stream",
     "text": [
      "dict_values(['Anil', '6 ft', '80 kg', 'B.E. civil', 'English,Hindi,Kannada,Telugu,Tamil'])\n"
     ]
    }
   ],
   "source": [
    "dict8 = {'NAME' : 'Anil','HEIGHT': '6 ft','WEIGHT': '80 kg','QUALIFICATION':'B.E. civil','LANGUAGES KNOWN':'English,Hindi,Kannada,Telugu,Tamil'}\n",
    "print(dict8.values())"
   ]
  },
  {
   "cell_type": "markdown",
   "id": "d490dc35",
   "metadata": {},
   "source": [
    "**Q68. What are loops in Python?**\n",
    "\n",
    "Loops in the programme are used to iterate over the sequence of elements"
   ]
  },
  {
   "cell_type": "markdown",
   "id": "29ffe766",
   "metadata": {},
   "source": [
    "**Q69. How many type of loop are there in Python?**\n",
    "\n",
    "There are two types of loop for loop and while loop"
   ]
  },
  {
   "cell_type": "markdown",
   "id": "917bb89c",
   "metadata": {},
   "source": [
    "**Q70. What is the difference between for and while loops?**\n",
    "\n",
    "for loop iterates over the items of any sequence be it string or list\n",
    "\n",
    "while loop iterates as long as the defined condition is true ,when the condition is false programme condition follows to the line immidiately following the loop\n",
    "\n"
   ]
  },
  {
   "cell_type": "markdown",
   "id": "152d2859",
   "metadata": {},
   "source": [
    "**Q71. What is the use of continue statement?**\n",
    "\n",
    "it continues with the next cycle of the nearest closing loop"
   ]
  },
  {
   "cell_type": "code",
   "execution_count": 255,
   "id": "92970ac3",
   "metadata": {},
   "outputs": [
    {
     "name": "stdout",
     "output_type": "stream",
     "text": [
      "0 1 2 3 4 6 7 "
     ]
    }
   ],
   "source": [
    "for i in range(8):\n",
    "    if i == 5:\n",
    "        continue\n",
    "    print(i,end = ' ')"
   ]
  },
  {
   "cell_type": "markdown",
   "id": "cce1e37a",
   "metadata": {},
   "source": [
    "**Q72. What is the use of break statement?**\n",
    "\n",
    "it terminates the nearest enclosing loop and skipping the optional else clause if the loop has one,if a for loop is terminated by a break the loop control target keeps its curent value"
   ]
  },
  {
   "cell_type": "code",
   "execution_count": 257,
   "id": "4f016a74",
   "metadata": {},
   "outputs": [
    {
     "name": "stdout",
     "output_type": "stream",
     "text": [
      "0\n",
      "1\n",
      "2\n"
     ]
    }
   ],
   "source": [
    "for i in range(6):\n",
    "    if i == 3:\n",
    "        break\n",
    "    print(i)"
   ]
  },
  {
   "cell_type": "markdown",
   "id": "cf000e46",
   "metadata": {},
   "source": [
    "**Q73. What is the use of pass statement?**\n",
    "\n",
    "when pass() is executed nothing happens it is usefull when no code needs to be executed"
   ]
  },
  {
   "cell_type": "code",
   "execution_count": 258,
   "id": "1c4cb472",
   "metadata": {},
   "outputs": [],
   "source": [
    "for i in range(5):\n",
    "    pass"
   ]
  },
  {
   "cell_type": "markdown",
   "id": "01478bfc",
   "metadata": {},
   "source": [
    "**Q74. What is the use of range() function?**\n",
    "\n",
    "To iterate over a sequence of numbers the range() function is used\n",
    "Ex: if we want to print numbers from 0 to 10 we can use range() function"
   ]
  },
  {
   "cell_type": "code",
   "execution_count": 261,
   "id": "f537e072",
   "metadata": {},
   "outputs": [
    {
     "name": "stdout",
     "output_type": "stream",
     "text": [
      "0 1 2 3 4 5 6 7 8 9 10 "
     ]
    }
   ],
   "source": [
    "for i in range(11):\n",
    "    print(i,end =' ')               # first digit is inclusive and last digit is exclusive"
   ]
  },
  {
   "cell_type": "markdown",
   "id": "bb0f88a1",
   "metadata": {},
   "source": [
    "\n",
    "**Q75. How can you loop over a dictionary?**\n",
    "\n"
   ]
  },
  {
   "cell_type": "code",
   "execution_count": 267,
   "id": "a3d5ff98",
   "metadata": {},
   "outputs": [
    {
     "name": "stdout",
     "output_type": "stream",
     "text": [
      "key =  NAME and Value =  Anil\n",
      "key =  HEIGHT and Value =  6 ft\n",
      "key =  WEIGHT and Value =  80 kg\n",
      "key =  QUALIFICATION and Value =  B.E. civil\n",
      "key =  LANGUAGES KNOWN and Value =  English,Hindi,Kannada,Telugu,Tamil\n"
     ]
    }
   ],
   "source": [
    "dict9 = {'NAME' : 'Anil','HEIGHT': '6 ft','WEIGHT': '80 kg','QUALIFICATION':'B.E. civil','LANGUAGES KNOWN':'English,Hindi,Kannada,Telugu,Tamil'}\n",
    "for x,y in dict9.items():\n",
    "    print('key = ',x, 'and Value = ', y)\n",
    "    \n",
    "   "
   ]
  },
  {
   "cell_type": "markdown",
   "id": "e2ed9943",
   "metadata": {},
   "source": [
    "**Q76. Write a Python program to find the factorial of a given number.**"
   ]
  },
  {
   "cell_type": "code",
   "execution_count": 11,
   "id": "b629ce88",
   "metadata": {},
   "outputs": [
    {
     "name": "stdout",
     "output_type": "stream",
     "text": [
      "24\n"
     ]
    }
   ],
   "source": [
    "\n",
    "def  factorial(n):\n",
    "    fact = 1\n",
    "    for i in range(n,0,-1):\n",
    "        fact = fact * i\n",
    "    return fact\n",
    "\n",
    "x= 4\n",
    "res = factorial(x)\n",
    "print(res)\n",
    "    \n",
    "    \n",
    "# DRY RUN\n",
    "\n",
    "# for 4 in range(4,0,-1):\n",
    "#     fact = fact * i\n",
    "#            1 * 4 = 4\n",
    "    \n",
    "# for 3 in range(3,0,-1):\n",
    "#     fact = fact * i\n",
    "#            4 * 3 = 12\n",
    "\n",
    "# for 2 in range(2,0,-1):\n",
    "#     fact = fact * i\n",
    "#            12 * 2 = 24\n",
    "        \n",
    "# for 1 in range(1,0,-1):\n",
    "#     fact = fact * i\n",
    "#            24 * 1 = 24    \n",
    "        \n",
    "# Last number is 0 as last number is exclusive programme end\n"
   ]
  },
  {
   "cell_type": "markdown",
   "id": "e4637fcc",
   "metadata": {},
   "source": [
    "**Q77. Write a Python program to calculate the simple interest. Formula to calculate simple interest is SI = (P*R*T)/100**"
   ]
  },
  {
   "cell_type": "code",
   "execution_count": 14,
   "id": "5ed1fc04",
   "metadata": {},
   "outputs": [
    {
     "name": "stdout",
     "output_type": "stream",
     "text": [
      "simple intreset calculated is 7\n"
     ]
    }
   ],
   "source": [
    "def simple_intrest(p,r,t):\n",
    "    si = (p*r*t)//100\n",
    "    return si\n",
    "\n",
    "num1 = 5\n",
    "num2 = 10\n",
    "num3 = 15\n",
    "result = simple_intrest(num1,num2,num3)\n",
    "print('simple intreset calculated is' ,result)\n"
   ]
  },
  {
   "cell_type": "markdown",
   "id": "4cc84042",
   "metadata": {},
   "source": [
    "**Q78. Write a Python program to calculate the compound interest. Formula of compound interest is A = P(1+ R/100)^t.**"
   ]
  },
  {
   "cell_type": "code",
   "execution_count": 27,
   "id": "5b0508e1",
   "metadata": {},
   "outputs": [
    {
     "name": "stdout",
     "output_type": "stream",
     "text": [
      "compound intrst calculated is :  612.0800000000017\n"
     ]
    }
   ],
   "source": [
    "def compound_intrest(p,r,t):\n",
    "    a = p*(1+r/100)**t\n",
    "    ci = a-p\n",
    "    return ci\n",
    "\n",
    "num1 =10000 \n",
    "num2 =2\n",
    "num3 =3\n",
    "\n",
    "result = compound_intrest(num1,num2,num3)\n",
    "print('compound intrest calculated is : ',result)\n",
    "\n",
    "p = principal amount\n",
    "r = rate of intrest\n",
    "t = time elapsed in years\n"
   ]
  },
  {
   "cell_type": "markdown",
   "id": "a128fe05",
   "metadata": {},
   "source": [
    "**Q79. Write a Python program to check if a number is prime or not.**"
   ]
  },
  {
   "cell_type": "code",
   "execution_count": 31,
   "id": "2e225744",
   "metadata": {},
   "outputs": [
    {
     "name": "stdout",
     "output_type": "stream",
     "text": [
      "Enter a number 5\n",
      "prime\n"
     ]
    }
   ],
   "source": [
    "\n",
    "n = int(input('Enter a number '))\n",
    "count = 0\n",
    "i = 1\n",
    "while(i<=n):\n",
    "    if(n%i==0):\n",
    "        count = count + 1\n",
    "    i = i + 1 \n",
    "if(count==2):\n",
    "    print('prime')\n",
    "else:\n",
    "    print('not a prime')"
   ]
  },
  {
   "cell_type": "markdown",
   "id": "57f37c97",
   "metadata": {},
   "source": [
    "**Q80. Write a Python program to check Armstrong Number.**"
   ]
  },
  {
   "cell_type": "code",
   "execution_count": 43,
   "id": "df4e4ae9",
   "metadata": {},
   "outputs": [
    {
     "name": "stdout",
     "output_type": "stream",
     "text": [
      "Enter a number 153\n"
     ]
    },
    {
     "ename": "TypeError",
     "evalue": "'str' object is not callable",
     "output_type": "error",
     "traceback": [
      "\u001b[1;31m---------------------------------------------------------------------------\u001b[0m",
      "\u001b[1;31mTypeError\u001b[0m                                 Traceback (most recent call last)",
      "Input \u001b[1;32mIn [43]\u001b[0m, in \u001b[0;36m<cell line: 3>\u001b[1;34m()\u001b[0m\n\u001b[0;32m      1\u001b[0m i \u001b[38;5;241m=\u001b[39m \u001b[38;5;28mint\u001b[39m(\u001b[38;5;28minput\u001b[39m(\u001b[38;5;124m'\u001b[39m\u001b[38;5;124mEnter a number \u001b[39m\u001b[38;5;124m'\u001b[39m))\n\u001b[0;32m      2\u001b[0m \u001b[38;5;28msum\u001b[39m \u001b[38;5;241m=\u001b[39m \u001b[38;5;241m0\u001b[39m\n\u001b[1;32m----> 3\u001b[0m order \u001b[38;5;241m=\u001b[39m \u001b[38;5;28mlen\u001b[39m(\u001b[38;5;28;43mstr\u001b[39;49m\u001b[43m(\u001b[49m\u001b[43mi\u001b[49m\u001b[43m)\u001b[49m)\n\u001b[0;32m      4\u001b[0m x\u001b[38;5;241m=\u001b[39mi\n\u001b[0;32m      5\u001b[0m \u001b[38;5;28;01mwhile\u001b[39;00m(i\u001b[38;5;241m>\u001b[39m\u001b[38;5;241m0\u001b[39m):\n",
      "\u001b[1;31mTypeError\u001b[0m: 'str' object is not callable"
     ]
    }
   ],
   "source": [
    "i = int(input('Enter a number '))\n",
    "sum = 0\n",
    "order = len(str(i))\n",
    "x=i\n",
    "while(i>0):\n",
    "    digit = i%10\n",
    "    sum = sum + digit ** order\n",
    "    i = i//10\n",
    "if x==sum:\n",
    "    print(f'{x} is a Armstrong Number')\n",
    "else:\n",
    "    print('Not a Armstrong Number')    "
   ]
  },
  {
   "cell_type": "markdown",
   "id": "997b239b",
   "metadata": {},
   "source": [
    "**Q81. Write a Python program to find the n-th Fibonacci Number.**"
   ]
  },
  {
   "cell_type": "code",
   "execution_count": 51,
   "id": "57252f96",
   "metadata": {},
   "outputs": [
    {
     "name": "stdout",
     "output_type": "stream",
     "text": [
      "Enter a number 5\n",
      "0\n",
      "1\n",
      "1\n",
      "2\n",
      "3\n",
      "5\n"
     ]
    }
   ],
   "source": [
    "n = int(input('Enter a number '))\n",
    "\n",
    "x = 0\n",
    "y = 1\n",
    "z = 0\n",
    "\n",
    "while(z<=n):\n",
    "    print(z)\n",
    "    x = y\n",
    "    y = z\n",
    "    z = (x+y)\n",
    "\n"
   ]
  },
  {
   "cell_type": "code",
   "execution_count": null,
   "id": "190fe604",
   "metadata": {},
   "outputs": [],
   "source": [
    "    \n",
    " DRY RUN (Explanation for avbove fibonacci Number) n = 5\n",
    "\n",
    "# while(z<=n):\n",
    "#     (0<=5)    ...........................................  ...  0   (as  Z = 0)\n",
    "#     print(z)\n",
    "#     x = y = 1  # PUT Y VALUE IN X\n",
    "#     y = z = 0  # PUT Z VALUE IN Y\n",
    "#     z = (x+y)\n",
    "#         (1+0)\n",
    "#     Z = 1\n",
    "    \n",
    "\n",
    "# while(z<=n):\n",
    "#     (1<=5)    ...........................................  ...  1   (as  Z = 1 from previous iteration)\n",
    "#     print(z)\n",
    "#     x = y = 0  # PUT Y VALUE IN X\n",
    "#     y = z = 1  # PUT Z VALUE IN Y\n",
    "#     z = (x+y)\n",
    "#         (0+1)\n",
    "#     Z = 1     \n",
    "    \n",
    "\n",
    "# while(z<=n):\n",
    "#     (1<=5)    ...........................................  ...  1   (as  Z = 1 from previous iteration)\n",
    "#     print(z)\n",
    "#     x = y = 1  # PUT Y VALUE IN X\n",
    "#     y = z = 1  # PUT Z VALUE IN Y\n",
    "#     z = (x+y)\n",
    "#         (1+1)\n",
    "#     Z = 2    \n",
    "    \n",
    "\n",
    "# while(z<=n):\n",
    "#     (2<=5)    ...........................................  ...  2   (as  Z = 2 from previous iteration)\n",
    "#     print(z)\n",
    "#     x = y = 1  # PUT Y VALUE IN X\n",
    "#     y = z = 2  # PUT Z VALUE IN Y\n",
    "#     z = (x+y)\n",
    "#         (1+2)\n",
    "#     Z = 3    \n",
    "\n",
    "\n",
    "# while(z<=n):\n",
    "#     (2<=5)    ...........................................  ...  3  (as  Z = 3 from previous iteration)\n",
    "#     print(z)\n",
    "#     x = y = 2  # PUT Y VALUE IN X\n",
    "#     y = z = 3  # PUT Z VALUE IN Y\n",
    "#     z = (x+y)\n",
    "#         (2+3)\n",
    "#     Z = 5    \n",
    "    \n",
    "\n",
    "# while(z<=n):\n",
    "#     (2<=5)    ...........................................  ...  5  (as  Z = 5 from previous iteration)\n",
    "#     print(z)\n",
    "#     x = y = 3  # PUT Y VALUE IN X\n",
    "#     y = z = 5  # PUT Z VALUE IN Y\n",
    "#     z = (x+y)\n",
    "#         (1+1)\n",
    "#     Z = 8    \n",
    "    \n",
    "    \n",
    "\n",
    "# while(z<=n):\n",
    "#     (8<=5)   FALSE\n",
    "#    PROGRAMME ENDS\n",
    "   "
   ]
  },
  {
   "cell_type": "markdown",
   "id": "70790bd3",
   "metadata": {},
   "source": [
    "**Q82. Write a Python program to interchange the first and last element in a list.**"
   ]
  },
  {
   "cell_type": "code",
   "execution_count": 57,
   "id": "1feb7c56",
   "metadata": {},
   "outputs": [
    {
     "name": "stdout",
     "output_type": "stream",
     "text": [
      "[8, 2, 3, 4, 5, 6, 7, 1]\n"
     ]
    }
   ],
   "source": [
    "x = [1,2,3,4,5,6,7,8]\n",
    "y = x[0]\n",
    "#print(y)\n",
    "x[0] = x[len(x)-1]\n",
    "x[len(x)-1] = y\n",
    "print(x)\n"
   ]
  },
  {
   "cell_type": "markdown",
   "id": "53839b74",
   "metadata": {},
   "source": [
    "**Q83. Write a Python program to swap two elements in a list.**"
   ]
  },
  {
   "cell_type": "code",
   "execution_count": 59,
   "id": "bc9b38e3",
   "metadata": {},
   "outputs": [
    {
     "name": "stdout",
     "output_type": "stream",
     "text": [
      "original list before swapping  [4, 6, 8, 9, 10, 12]\n",
      "Enter first position2\n",
      "Enter second position4\n",
      "List after swapping  [4, 6, 10, 9, 8, 12]\n"
     ]
    }
   ],
   "source": [
    "x=[4,6,8,9,10,12]\n",
    "print('original list before swapping ',x)\n",
    "z1 = int(input('Enter first position '))\n",
    "z2 = int(input('Enter second position '))\n",
    "\n",
    "x[z1],x[z2] = x[z2],x[z1]\n",
    "print('List after swapping ',x)"
   ]
  },
  {
   "cell_type": "markdown",
   "id": "b7c9a041",
   "metadata": {},
   "source": [
    "**Q84. Write a Python program to find N largest element from a list.**"
   ]
  },
  {
   "cell_type": "code",
   "execution_count": 62,
   "id": "68519f3f",
   "metadata": {},
   "outputs": [
    {
     "name": "stdout",
     "output_type": "stream",
     "text": [
      "largest element is  89\n"
     ]
    }
   ],
   "source": [
    "list2 = [1,5,7,89,56,78,81]\n",
    "print('largest element is ',max(list2))"
   ]
  },
  {
   "cell_type": "markdown",
   "id": "60be69c8",
   "metadata": {},
   "source": [
    "**Q85. Write a Python program to find cumulative sum of a list.**"
   ]
  },
  {
   "cell_type": "code",
   "execution_count": 67,
   "id": "f20a27ee",
   "metadata": {},
   "outputs": [
    {
     "name": "stdout",
     "output_type": "stream",
     "text": [
      "sum =  25\n"
     ]
    }
   ],
   "source": [
    "numbers = [1,2,3,6,8,5]\n",
    "sum = 0\n",
    "i = 1\n",
    "for i in  numbers:\n",
    "    sum = sum + i\n",
    "    i = i + 1\n",
    "print('sum = ',sum)\n",
    "    "
   ]
  },
  {
   "cell_type": "markdown",
   "id": "da0cd0b6",
   "metadata": {},
   "source": [
    "**Q86. Write a Python program to check if a string is palindrome or not.**"
   ]
  },
  {
   "cell_type": "code",
   "execution_count": 68,
   "id": "1dd56b29",
   "metadata": {},
   "outputs": [
    {
     "name": "stdout",
     "output_type": "stream",
     "text": [
      "Enter a number 1234\n",
      "not a palindrome\n"
     ]
    }
   ],
   "source": [
    "i = int(input('Enter a number '))\n",
    "rev = 0\n",
    "x = i\n",
    "while(i>0):\n",
    "    rev=(rev*10) + (i%10)\n",
    "    i= i//10\n",
    "if(x==rev):\n",
    "    print('palindrome')\n",
    "else:\n",
    "    print('not a palindrome')"
   ]
  },
  {
   "cell_type": "markdown",
   "id": "665a6c5e",
   "metadata": {},
   "source": [
    "**Q87. Write a Python program to remove i'th element from a string.**"
   ]
  },
  {
   "cell_type": "code",
   "execution_count": 72,
   "id": "c007cc2a",
   "metadata": {},
   "outputs": [
    {
     "name": "stdout",
     "output_type": "stream",
     "text": [
      "iNeuro"
     ]
    }
   ],
   "source": [
    "string = 'iNeuron'\n",
    "remove = 'n'\n",
    "for i in string:\n",
    "    if i is remove:\n",
    "        continue\n",
    "    else:\n",
    "        print(i,end= '')"
   ]
  },
  {
   "cell_type": "markdown",
   "id": "86319a4f",
   "metadata": {},
   "source": [
    "**Q88. Write a Python program to check if a substring is present in a given string.**"
   ]
  },
  {
   "cell_type": "code",
   "execution_count": 74,
   "id": "fd106e19",
   "metadata": {},
   "outputs": [
    {
     "name": "stdout",
     "output_type": "stream",
     "text": [
      "substring found at index  19\n"
     ]
    }
   ],
   "source": [
    "sentence = 'My name is chenchu anil'\n",
    "substring = 'anil'\n",
    "\n",
    "def findstring(substring):\n",
    "    result = sentence.find(substring)\n",
    "    if (result == -1):\n",
    "        print('substring not found')\n",
    "    else:\n",
    "        print('substring found at index ',result)\n",
    "        \n",
    "findstring(substring)"
   ]
  },
  {
   "cell_type": "markdown",
   "id": "4de048fc",
   "metadata": {},
   "source": [
    "**Q89. Write a Python program to find words which are greater than given length k.**"
   ]
  },
  {
   "cell_type": "code",
   "execution_count": 78,
   "id": "91f98a54",
   "metadata": {},
   "outputs": [
    {
     "name": "stdout",
     "output_type": "stream",
     "text": [
      "engineer\n",
      "software\n"
     ]
    }
   ],
   "source": [
    "list10=['anil','engineer','civil','software','ayush']\n",
    "for ele in list10:\n",
    "    if(len(ele)>5):\n",
    "        print(ele)"
   ]
  },
  {
   "cell_type": "markdown",
   "id": "1aa098ef",
   "metadata": {},
   "source": [
    "**Q90. Write a Python program to extract unique dictionary values.**"
   ]
  },
  {
   "cell_type": "code",
   "execution_count": 84,
   "id": "e3808da7",
   "metadata": {},
   "outputs": [
    {
     "name": "stdout",
     "output_type": "stream",
     "text": [
      "{'anil', 'raja', 'chenchu'}\n"
     ]
    }
   ],
   "source": [
    "names = {1:'chenchu',2:'raja',3:'anil',4:'chenchu',5:'anil'}\n",
    "print(set(names.values()))"
   ]
  },
  {
   "cell_type": "markdown",
   "id": "9a5687c3",
   "metadata": {},
   "source": [
    "\n",
    "**Q91. Write a Python program to merge two dictionary.**"
   ]
  },
  {
   "cell_type": "code",
   "execution_count": 86,
   "id": "02b30636",
   "metadata": {},
   "outputs": [
    {
     "name": "stdout",
     "output_type": "stream",
     "text": [
      "{1: 'chenchu', 2: 'raja', 3: 'anil', 4: 'chenchu', 5: 'anil', 'NAME': 'Anil', 'HEIGHT': '6 ft', 'WEIGHT': '80 kg'}\n"
     ]
    }
   ],
   "source": [
    "# by using update metod\n",
    "list11 = {1:'chenchu',2:'raja',3:'anil',4:'chenchu',5:'anil'}\n",
    "list12= {'NAME' : 'Anil','HEIGHT': '6 ft','WEIGHT': '80 kg'}\n",
    "list11.update(list12)\n",
    "print(list11)"
   ]
  },
  {
   "cell_type": "code",
   "execution_count": 89,
   "id": "929317da",
   "metadata": {},
   "outputs": [
    {
     "name": "stdout",
     "output_type": "stream",
     "text": [
      "{1: 'chenchu', 2: 'raja', 3: 'anil', 4: 'chenchu', 5: 'anil', 'NAME': 'Anil', 'HEIGHT': '6 ft', 'WEIGHT': '80 kg'}\n"
     ]
    }
   ],
   "source": [
    "#by using key value argumenta(kwargs)\n",
    "\n",
    "list11 = {1:'chenchu',2:'raja',3:'anil',4:'chenchu',5:'anil'}\n",
    "list12= {'NAME' : 'Anil','HEIGHT': '6 ft','WEIGHT': '80 kg'}\n",
    "list13 = {**list11,**list12}\n",
    "print(list13)"
   ]
  },
  {
   "cell_type": "markdown",
   "id": "392bb149",
   "metadata": {},
   "source": [
    "**Q96. Write a python program to print below pattern.**"
   ]
  },
  {
   "cell_type": "code",
   "execution_count": 113,
   "id": "1c6406ee",
   "metadata": {},
   "outputs": [
    {
     "name": "stdout",
     "output_type": "stream",
     "text": [
      "Enter a number of rows 5\n",
      "* \n",
      "* * \n",
      "* * * \n",
      "* * * * \n",
      "* * * * * \n"
     ]
    }
   ],
   "source": [
    "n = int(input('Enter a number of rows '))\n",
    "for i in range(n):\n",
    "    for j in range(i-n-1):\n",
    "         print(' ',end = ' ')\n",
    "    for j in range(i+1):\n",
    "         print('*' , end=' ')\n",
    "    print()"
   ]
  },
  {
   "cell_type": "markdown",
   "id": "0405635e",
   "metadata": {},
   "source": [
    "**Q97. Write a python program to print below pattern.**"
   ]
  },
  {
   "cell_type": "code",
   "execution_count": 112,
   "id": "79a424f8",
   "metadata": {},
   "outputs": [
    {
     "name": "stdout",
     "output_type": "stream",
     "text": [
      "Enter a number of rows 5\n",
      "    *\n",
      "   **\n",
      "  ***\n",
      " ****\n",
      "*****\n"
     ]
    }
   ],
   "source": [
    "n = int(input('Enter a number of rows '))\n",
    "for i in range(n):\n",
    "    for j in range(n-i-1):\n",
    "         print(' ',end = '')\n",
    "    for j in range(i+1):\n",
    "         print('*' , end='')\n",
    "    print()"
   ]
  },
  {
   "cell_type": "markdown",
   "id": "e9634d43",
   "metadata": {},
   "source": [
    "**Q98. Write a python program to print below pattern.**"
   ]
  },
  {
   "cell_type": "code",
   "execution_count": 118,
   "id": "422f0463",
   "metadata": {},
   "outputs": [
    {
     "name": "stdout",
     "output_type": "stream",
     "text": [
      "Enter a number of rows 5\n",
      "    * \n",
      "   * * \n",
      "  * * * \n",
      " * * * * \n",
      "* * * * * \n"
     ]
    }
   ],
   "source": [
    "n = int(input('Enter a number of rows '))\n",
    "for i in range(n):\n",
    "    for j in range(n-i-1):\n",
    "         print(' ',end = '')\n",
    "    for j in range(i+1):\n",
    "         print('*' , end=' ')\n",
    "    print()"
   ]
  },
  {
   "cell_type": "markdown",
   "id": "66294a1a",
   "metadata": {},
   "source": [
    "**Q99. Write a python program to print below pattern.**"
   ]
  },
  {
   "cell_type": "code",
   "execution_count": 141,
   "id": "51f0fd62",
   "metadata": {},
   "outputs": [
    {
     "name": "stdout",
     "output_type": "stream",
     "text": [
      "\n",
      "1 \n",
      "1 2 \n",
      "1 2 3 \n",
      "1 2 3 4 \n",
      "1 2 3 4 5 \n"
     ]
    }
   ],
   "source": [
    "for i in range (1,7):\n",
    "    for j in range (1,i):\n",
    "        print(j, end = ' ')\n",
    "    print()"
   ]
  },
  {
   "cell_type": "markdown",
   "id": "3535a5af",
   "metadata": {},
   "source": [
    "**Q100. Write a python program to print below pattern.**"
   ]
  },
  {
   "cell_type": "code",
   "execution_count": 149,
   "id": "2cd8d5fc",
   "metadata": {},
   "outputs": [
    {
     "name": "stdout",
     "output_type": "stream",
     "text": [
      "Enter the number5\n",
      "A \n",
      "B B \n",
      "C C C \n",
      "D D D D \n",
      "E E E E E \n"
     ]
    }
   ],
   "source": [
    "n = int(input('Enter the number'))\n",
    "for i in range(65,n+65):\n",
    "    for j in range(65,i+1):\n",
    "        print(chr(i),end=' ')\n",
    "    print()"
   ]
  },
  {
   "cell_type": "code",
   "execution_count": null,
   "id": "88285c3f",
   "metadata": {},
   "outputs": [],
   "source": []
  }
 ],
 "metadata": {
  "kernelspec": {
   "display_name": "Python 3 (ipykernel)",
   "language": "python",
   "name": "python3"
  },
  "language_info": {
   "codemirror_mode": {
    "name": "ipython",
    "version": 3
   },
   "file_extension": ".py",
   "mimetype": "text/x-python",
   "name": "python",
   "nbconvert_exporter": "python",
   "pygments_lexer": "ipython3",
   "version": "3.9.12"
  }
 },
 "nbformat": 4,
 "nbformat_minor": 5
}
