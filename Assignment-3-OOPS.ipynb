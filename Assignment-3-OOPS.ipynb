{
 "cells": [
  {
   "cell_type": "markdown",
   "id": "32ac241c",
   "metadata": {},
   "source": [
    "\n",
    "**Q1. What is the purpose of Python's OOP?\n",
    "\n",
    "The concept of python focuses on creating re-usable code.This concept is also known as DRY(Don't Repeat Yourself)\n",
    "By using OOPs we can create our own data types.                                "
   ]
  },
  {
   "cell_type": "markdown",
   "id": "5cfcd50c",
   "metadata": {},
   "source": [
    "**Q2. Where does an inheritance search look for an attribute?\n",
    "\n",
    "it looks first in instance object then in the class the instance was created from,then in all higher superclasses,progressing from left to right\n"
   ]
  },
  {
   "cell_type": "markdown",
   "id": "1735eebd",
   "metadata": {},
   "source": [
    "**Q3. How do you distinguish between a class object and an instance object?\n",
    "\n",
    "Class is a blueprint/template/representation or user-defined data type for the objects. \n",
    "We write only one class for hundreds of objects."
   ]
  },
  {
   "cell_type": "markdown",
   "id": "ee3a250e",
   "metadata": {},
   "source": [
    "**Q4. What makes the first argument in a class’s method function special?\n",
    "\n",
    "The first argument in a class is self\n",
    "The self is used to represent the instance of the class. \n",
    "With this keyword, you can access the attributes and methods of the class in python.\n",
    "\n"
   ]
  },
  {
   "cell_type": "markdown",
   "id": "d552cd4f",
   "metadata": {},
   "source": [
    "**Q5. What is the purpose of the init method?\n",
    "\n",
    "__init__ is a constructor it is a speciall method it executes its inside code automatically when its objects are created\n",
    "A programmer or Application puts code or objects in constructor which he do not want to give control to the user"
   ]
  },
  {
   "cell_type": "markdown",
   "id": "ead44b20",
   "metadata": {},
   "source": [
    "**Q6. What is the process for creating a class instance?\n",
    "\n",
    "To create instances of a class, you call the class using class name \n",
    "and pass in whatever arguments its __init__ method accepts"
   ]
  },
  {
   "cell_type": "markdown",
   "id": "b2649ec7",
   "metadata": {},
   "source": [
    "**Q7. What is the process for creating a class?\n",
    "\n",
    "A class is a user-defined blueprint or prototype from which objects are created. Classes provide a means of bundling data and functionality together. class name should be in pascal case.\n",
    "\n",
    "EX: ThisIsPascalCase\n",
    "\n"
   ]
  },
  {
   "cell_type": "markdown",
   "id": "870b699d",
   "metadata": {},
   "source": [
    "\n",
    "**Q8. How would you define the superclasses of a class?\n",
    "\n",
    "In object-oriented programming , a class from which other classes inherit code is called a superclass."
   ]
  },
  {
   "cell_type": "markdown",
   "id": "81970cd6",
   "metadata": {},
   "source": [
    "**Q9. What is the relationship between classes and modules?\n",
    "\n",
    "module can do only one task, but class can have many tasks,\n",
    "\n",
    "class can have so many methods in it.so it can perform so many operations.\n"
   ]
  },
  {
   "cell_type": "markdown",
   "id": "e676f168",
   "metadata": {},
   "source": [
    "**Q10. How do you make instances and classes?\n",
    "\n",
    "To create instances of a class, you call the class using class name and pass in whatever arguments its __init__ method accepts."
   ]
  },
  {
   "cell_type": "markdown",
   "id": "89f752ef",
   "metadata": {},
   "source": [
    "**Q11. Where and how should be class attributes created?\n",
    "\n",
    "A class attribute is shared by all instances of the class. To define a class attribute, you place it outside of the __init__() method.\n",
    "\n"
   ]
  },
  {
   "cell_type": "markdown",
   "id": "04c629b4",
   "metadata": {},
   "source": [
    "**Q12. Where and how are instance attributes created?\n",
    "\n",
    "Instance attributes are defined in the constructor. Defined directly inside a class. \n",
    "Defined inside a constructor using the self parameter\n"
   ]
  },
  {
   "cell_type": "markdown",
   "id": "679f51db",
   "metadata": {},
   "source": [
    "**Q13. What does the term \"self\" in a Python class mean?\n",
    "\n",
    "In Python the word self is the first parameter of methods that represents the instance of the class. \n",
    "so in order to call attributes and methods of a class, the programmer needs to use self.\n",
    "\n"
   ]
  },
  {
   "cell_type": "markdown",
   "id": "0784edfe",
   "metadata": {},
   "source": [
    "**Q14. How does a Python class handle operator overloading?\n",
    "\n",
    "\n",
    "For example, the + operator will perform arithmetic addition on two numbers, merge two lists, or concatenate two strings. This feature in Python that allows the same operator to have different meaning according to the context is called operator overloading.\n",
    "\n"
   ]
  },
  {
   "cell_type": "markdown",
   "id": "6651e9a3",
   "metadata": {},
   "source": [
    "**Q15. When do you consider allowing operator overloading of your classes?\n",
    "\n",
    " when we want same operator to operate on two numbers and  two strings. It performs “Addition” on numbers whereas it performs “Concatenation” on strings."
   ]
  },
  {
   "cell_type": "markdown",
   "id": "1657f991",
   "metadata": {},
   "source": [
    "**Q16.What is the most popular form of operator overloading?\n",
    " \n",
    " Addition operator +\n"
   ]
  },
  {
   "cell_type": "markdown",
   "id": "fc782b3c",
   "metadata": {},
   "source": [
    "**Q17. What are the two most important concepts to grasp in order to comprehend Python OOP code?\n",
    "\n",
    "classes/objects\n",
    "inheritance"
   ]
  },
  {
   "cell_type": "markdown",
   "id": "619453f6",
   "metadata": {},
   "source": [
    "**Q18. Describe three applications for exception processing.\n",
    "\n",
    "\n",
    "try:A try statement includes keyword try, followed by a colon (:) and a suite of code in which exceptions may occur\n",
    "\n",
    "except:except blocks take one argument at a time, which is the type of exception that it is likely to catch. These arguments may range from a specific type of exception which can be varied to a catch-all category of exceptions.\n",
    "\n",
    "finally:Finally block always executes irrespective of an exception being thrown or not. The final keyword allows you to create a block of code that follows a try-except block.\n",
    "\n",
    "\n",
    "num1 = input()\n",
    "print('enter num1')\n",
    "num2 = input()\n",
    "print('enter num2')\n",
    "try:\n",
    "    print('sum of two numbers is',int(num1)+int(num2))\n",
    "except Exception as e:\n",
    "    print(e)\n",
    "print('important code')\n",
    "finally:\n",
    "    print(\"doesnt matter try-except but i will print myself)\n"
   ]
  },
  {
   "cell_type": "markdown",
   "id": "e6d59479",
   "metadata": {},
   "source": [
    "**Q19. What happens if you don't do something extra to treat an exception?\n",
    "\n",
    "if an exception is occurred and you don't handle it the program stops and the code after that line which caused the exception will not get executed.\n",
    "\n"
   ]
  },
  {
   "cell_type": "markdown",
   "id": "098f7931",
   "metadata": {},
   "source": [
    "**Q20. What are your options for recovering from an exception in your script?\n",
    "\n",
    "After the except clause you can include an else clause. The code in the else-block executes if the code in the try block does not raise an exception."
   ]
  },
  {
   "cell_type": "markdown",
   "id": "83e613eb",
   "metadata": {},
   "source": [
    "**Q21. Describe two methods for triggering exceptions in your script.\n",
    "\n",
    "You use the “raise” keyword to throw a Python exception manually and You can also add a message to describe the exception\n",
    "\n",
    "Another way to raise an exception is to use assertion. With assertion  you assert a condition to be true before running a statement. If the condition evaluates to true, the statement runs, and the control continues to the next statement. However, if the condition evaluates to false, the program throws an AssertionError."
   ]
  },
  {
   "cell_type": "markdown",
   "id": "2de70dc1",
   "metadata": {},
   "source": [
    "**Q22. Identify two methods for specifying actions to be executed at termination time, regardless of whether or not an exception exists.\n",
    "\n",
    "finally method\n"
   ]
  },
  {
   "cell_type": "markdown",
   "id": "af032053",
   "metadata": {},
   "source": [
    "**Q23. What is the purpose of the try statement?\n",
    "\n",
    "The try block is used to check some code for errors i.e the code inside the try block will execute when there is no error in the program."
   ]
  },
  {
   "cell_type": "markdown",
   "id": "3ea7974b",
   "metadata": {},
   "source": [
    "**Q24. What are the two most popular try statement variations?\n",
    "\n",
    "else \n",
    "finally"
   ]
  },
  {
   "cell_type": "markdown",
   "id": "61039564",
   "metadata": {},
   "source": [
    "**Q25. What is the purpose of the raise statement?\n",
    "\n",
    "You use the “raise” keyword to throw a Python exception manually and You can also add a message to describe the exception\n"
   ]
  },
  {
   "cell_type": "markdown",
   "id": "aabc675b",
   "metadata": {},
   "source": [
    "**Q26. What does the assert statement do, and what other statement is it like?\n",
    "\n",
    "Another way to raise an exception is to use assertion. With assertion  you assert a condition to be true before running a statement. If the condition evaluates to true, the statement runs, and the control continues to the next statement. However, if the condition evaluates to false, the program throws an AssertionError."
   ]
  },
  {
   "cell_type": "markdown",
   "id": "ce468abd",
   "metadata": {},
   "source": [
    "**Q27. What is the purpose of the with/as argument, and what other statement is it like?\n",
    "\n",
    " common example of using the with statement is opening a file .To open and write to a file in Python\n",
    " \n",
    " it is like try/finally statement\n"
   ]
  },
  {
   "cell_type": "markdown",
   "id": "8a10d3b7",
   "metadata": {},
   "source": [
    "**Q28. What are *args, **kwargs?\n",
    "\n",
    "*args and **kwargs allow you to pass multiple arguments or keyword arguments to a function. "
   ]
  },
  {
   "cell_type": "markdown",
   "id": "e6eff3cf",
   "metadata": {},
   "source": [
    "**Q29. How can I pass optional or keyword parameters from one function to another?\n",
    "\n",
    " **kwargs statement can be used to assign an optional argument."
   ]
  },
  {
   "cell_type": "markdown",
   "id": "98710208",
   "metadata": {},
   "source": [
    "**Q30. What are Lambda Functions?\n",
    "\n",
    "Lambda function means that the function is without a name\n",
    "is written in mostly single line code\n"
   ]
  },
  {
   "cell_type": "markdown",
   "id": "a8b13d2e",
   "metadata": {},
   "source": [
    "**Q31. Explain Inheritance in Python with an example?\n",
    "\n",
    "Inheritance relationship defines the classes that inherit from other classes as derived, subclass, or sub-type classes. Base class remains to be the source from which a subclass inherits. For example, you have a Base class of “Vehicle,” and a “car” is a Derived class. \n",
    "The inheritance will be car is an vehicle."
   ]
  },
  {
   "cell_type": "markdown",
   "id": "3160db92",
   "metadata": {},
   "source": [
    "**Q32. Suppose class C inherits from classes A and B as class C(A,B).Classes A and B both have their \n",
    "own versions of method func(). \n",
    "If we call func() from an object of class C, which version gets invoked?\n",
    "\n",
    "Both"
   ]
  },
  {
   "cell_type": "markdown",
   "id": "9a4c0a2a",
   "metadata": {},
   "source": [
    "**Q33. Which methods/functions do we use to determine the type of instance and inheritance?\n",
    "\n",
    "isinstance() to check a instance type\n",
    "issubclass() to check a inheritance\n",
    "\n"
   ]
  },
  {
   "cell_type": "markdown",
   "id": "562a105e",
   "metadata": {},
   "source": [
    "**Q34.Explain the use of the 'nonlocal' keyword in Python.\n",
    "\n",
    " nonlocal keyword will work with variables inside nested functions where the variable should not belong to the inner function, use the keyword nonlocal to declare that the variable is not local."
   ]
  },
  {
   "cell_type": "markdown",
   "id": "9a7bae5a",
   "metadata": {},
   "source": [
    "**Q35. What is the global keyword?\n",
    "\n",
    "global variable means having a scope throughout the program, i.e. a global variable value is accessible throughout the program unless shadowed,a global variable in Python is often declared as the top of the program.\n"
   ]
  }
 ],
 "metadata": {
  "kernelspec": {
   "display_name": "Python 3 (ipykernel)",
   "language": "python",
   "name": "python3"
  },
  "language_info": {
   "codemirror_mode": {
    "name": "ipython",
    "version": 3
   },
   "file_extension": ".py",
   "mimetype": "text/x-python",
   "name": "python",
   "nbconvert_exporter": "python",
   "pygments_lexer": "ipython3",
   "version": "3.9.12"
  }
 },
 "nbformat": 4,
 "nbformat_minor": 5
}
